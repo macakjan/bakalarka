{
 "cells": [
  {
   "cell_type": "code",
   "execution_count": 7,
   "metadata": {},
   "outputs": [],
   "source": [
    "# moves a vector (row) in the triangular basis T up\n",
    "#   from its original index from_i to to_i, rows between these\n",
    "#   two indices move one row down\n",
    "def rotate_up_in_tr(from_i, to_i, T):\n",
    "    temp_vec = T[from_i]\n",
    "    for i in range(from_i, to_i, -1):\n",
    "        T[i] = T[i-1]\n",
    "    T[to_i] = temp_vec\n",
    "    table = [[0]*(from_i+1-to_i) for _ in range(T.nrows()-to_i)]\n",
    "    table[0][0] = sum([T[to_i,k]**2 for k in range(to_i, from_i+1)])\n",
    "    for i in range(to_i+1, T.nrows()):\n",
    "        table[i-to_i][0] = \\\n",
    "                sum([T[to_i,k]*T[i,k] for k in range(to_i, min(from_i+1,i))])\n",
    "    for i in range(to_i+1,T.nrows()):\n",
    "        for j in range(to_i+1, min(i+1, from_i+1)):\n",
    "            table[i-to_i][j-to_i] = sum([T[i,k]*T[j,k] for k in range(to_i,j)])\n",
    "    T[to_i,to_i] = sqrt(table[0][0])\n",
    "    for i in range(to_i+1, from_i+1):\n",
    "        T[to_i,i] = 0\n",
    "    for i in range(to_i+1, from_i+1):\n",
    "        for j in range(to_i, i):\n",
    "            temp_sum = sum([T[i,k]*T[j,k] for k in range(to_i,j)])\n",
    "            T[i, j] = (table[i-to_i][j-to_i]-temp_sum)/T[j,j]\n",
    "        temp_sum = sum([T[i,k]**2 for k in range(to_i,i)])\n",
    "        T[i,i] = sqrt(table[i-to_i][i-to_i] - temp_sum)\n",
    "    for i in range(from_i+1, T.nrows()):\n",
    "        for j in range(to_i, from_i+1):\n",
    "            temp_sum = sum([T[i,k]*T[j,k] for k in range(to_i,j)])\n",
    "            T[i, j] = (table[i-to_i][j-to_i]-temp_sum)/T[j,j]\n"
   ]
  }
 ],
 "metadata": {
  "kernelspec": {
   "display_name": "SageMath 9.1",
   "language": "sage",
   "name": "sagemath"
  },
  "language_info": {
   "codemirror_mode": {
    "name": "ipython",
    "version": 3
   },
   "file_extension": ".py",
   "mimetype": "text/x-python",
   "name": "python",
   "nbconvert_exporter": "python",
   "pygments_lexer": "ipython3",
   "version": "3.7.3"
  }
 },
 "nbformat": 4,
 "nbformat_minor": 2
}
