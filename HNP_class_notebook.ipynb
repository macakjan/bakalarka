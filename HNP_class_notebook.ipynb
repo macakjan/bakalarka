{
 "cells": [
  {
   "cell_type": "code",
   "execution_count": 48,
   "metadata": {},
   "outputs": [],
   "source": [
    "from random import randint\n",
    "import math\n",
    "\n",
    "# absolute value of centered modulo of integers\n",
    "def abs_mod(a, m):\n",
    "    ret = a % m\n",
    "    return (ret if ret <= m//2 else m-ret)\n",
    "\n",
    "# absolute value of centered modulo of real numbers\n",
    "def abs_mod_float(a, m):\n",
    "    return abs(a-m*round(a/m))\n",
    "\n",
    "# modulo of real numbers\n",
    "def mod_float(a, m):\n",
    "    return a-m*math.floor(a/m)\n",
    "\n",
    "# inversion of a (mod n)\n",
    "def mod_inversion(a, n):\n",
    "    a, m, k1, k2 = a%n, n, 0, 1\n",
    "    while a!=0:\n",
    "        r, d = n%a, n//a\n",
    "        k1, k2, n, a = k2, k1-d*k2, a, r\n",
    "    return (k1%m if n==1 else None)\n",
    "\n",
    "# list_A and list_B must contain disjoint intervals in increasing order\n",
    "# open intervals are used (endpoints not included)\n",
    "# inspired by\n",
    "#   https://geeksforgeeks.org/find-intersection-of-intervals-given-by-two-lists\n",
    "def intersect_two_interval_lists(list_A, list_B):\n",
    "    ret = []\n",
    "    i, j, n, m = 0, 0, len(list_A), len(list_B)\n",
    "    while i < n and j < m:\n",
    "        low = max(list_A[i][0], list_B[j][0])\n",
    "        if list_A[i][1] <= list_B[j][1]:\n",
    "            top = list_A[i][1]\n",
    "            i += 1\n",
    "        else:\n",
    "            top = list_B[j][1]\n",
    "            j += 1\n",
    "        if low < top:\n",
    "            ret.append((low, top))\n",
    "    return ret\n",
    "\n",
    "# list_of_lists: elements are lists of disjoint intervals in increasing order\n",
    "def intersect_interval_lists(list_of_lists):\n",
    "    ret = [(-math.inf, math.inf)]\n",
    "    for alist in list_of_lists:\n",
    "        ret = intersect_two_interval_lists(ret, alist)\n",
    "    return ret\n",
    "\n",
    "# creates a list of all intervals containing real solutions\n",
    "#   to one HNP inequality\n",
    "# covers all solutions in the range [0,q]\n",
    "# some of the returned intervals can possibly exceed this range\n",
    "def make_interval_list_HNP(q, ti, ui, w):\n",
    "    period = q/abs(ti)\n",
    "    b = mod_float(ui/ti + period/(2*w), period)\n",
    "    a = b - period/w\n",
    "    k, cur, ret = 0, a, []\n",
    "    while cur < q:\n",
    "        ret.append((cur, cur+period/w))\n",
    "        k += 1\n",
    "        cur = a + k*period\n",
    "    return ret\n",
    "\n",
    "class HNP:\n",
    "    def __init__(self, q, default=None, li_vs_wi=True,\n",
    "                 matrix_B_corner=1, alpha=None):\n",
    "        self.q = q  # should be prime number, not checked\n",
    "        self.alpha = alpha\n",
    "        self.d = 0\n",
    "        self.t = []\n",
    "        self.u = []\n",
    "        self.li_vs_wi = li_vs_wi  # using number of \"bits\" (li) is default\n",
    "        if li_vs_wi:\n",
    "            self.default = default if default else 1\n",
    "        else:\n",
    "            self.default = default if default else 2\n",
    "        self.l_or_w_dict = {}\n",
    "        self.interval_list = None\n",
    "        self.number_of_intervals = None\n",
    "        self.solution_list = None\n",
    "        self.number_of_solutions = None\n",
    "        self.matrix_B_corner = matrix_B_corner\n",
    "        self.reduced_HNP = None\n",
    "    \n",
    "    def get_w(self, i=-1):\n",
    "        if self.li_vs_wi:\n",
    "            return 2**self.l_or_w_dict.get(i, self.default)\n",
    "        return self.l_or_w_dict.get(i, self.default)\n",
    "    \n",
    "    def clear(self):  # back to initial state\n",
    "        self.__init__(self.q, self.default, self.li_vs_wi,\n",
    "                      self.matrix_B_corner, self.alpha)\n",
    "        return self\n",
    "\n",
    "    def make_reduced_HNP(self):\n",
    "        reduced_HNP = HNP(self.q, self.default,\n",
    "                          self.li_vs_wi, self.get_w(self.d-1))\n",
    "        reduced_HNP.l_or_w_dict = self.l_or_w_dict\n",
    "        t_1_1 = mod_inversion(self.t[-1], self.q)\n",
    "        temp = (-self.u[-1]*t_1_1)%self.q\n",
    "        for i in range(self.d-1):\n",
    "            reduced_HNP.add_ineq((t_1_1*self.t[i])%self.q,\n",
    "                                       (self.u[i]+temp*self.t[i])%self.q)\n",
    "        self.reduced_HNP = reduced_HNP\n",
    "        return self.reduced_HNP\n",
    "    \n",
    "    def solution_from_reduced_HNP(self):\n",
    "        return ((self.reduced_HNP.alpha+self.u[-1]) \\\n",
    "                 *mod_inversion(self.t[-1],self.q))%self.q\n",
    "    \n",
    "    def solutions_from_reduced_HNP(self):\n",
    "        ret = []\n",
    "        for sol in self.reduced_HNP.solution_list:\n",
    "            ret.append(((sol+self.u[-1])* \\\n",
    "                        mod_inversion(self.t[-1],self.q))%self.q)\n",
    "        return ret\n",
    "    \n",
    "    def make_random(self, n=-1):\n",
    "        self.clear()\n",
    "        wi = 2**self.default if self.li_vs_wi else self.default\n",
    "        if n < 0:\n",
    "            s, n = 1, 0\n",
    "            while s < self.q:\n",
    "                s *= wi\n",
    "                n += 1\n",
    "        self.alpha = self.alpha if self.alpha else randint(1,self.q-1)\n",
    "        self.t = [randint(1,self.q-1) for _ in range(n)]\n",
    "        self.u = [(self.alpha*self.t[i]+randint(math.floor(-self.q/(2*wi)+1),\n",
    "                  math.ceil(self.q/(2*wi)-1)))%self.q for i in range(n)]\n",
    "        self.d = n\n",
    "        return self\n",
    "    \n",
    "    def check_solution(self, int_number):\n",
    "        return all([abs_mod(int_number*self.t[i]-self.u[i], \\\n",
    "                    self.q)*2*self.get_w(i) < self.q for i in range(self.d)])\n",
    "    \n",
    "    def check_solution_float(self, float_number):\n",
    "        return all([abs_mod_float(float_number*self.t[i]-self.u[i], \\\n",
    "                    self.q)*2*self.get_w(i) < self.q for i in range(self.d)])\n",
    "    \n",
    "    def make_matrix_B(self):\n",
    "        return matrix([[(2*self.get_w(i)*self.q if i==j else 0) \\\n",
    "                        for j in range(self.d+1)] \\\n",
    "                       for i in range(self.d)] + \\\n",
    "                [[2*self.get_w(j)*self.t[j] for j in range(self.d)] + \\\n",
    "                 [self.matrix_B_corner]])\n",
    "    \n",
    "    def make_matrix_C(self):  # C is called B' in the thesis ???\n",
    "        return matrix([[(2*self.get_w(i)*self.q if i==j else 0) \\\n",
    "                        for j in range(self.d+2)] \\\n",
    "                       for i in range(self.d)] + \\\n",
    "            [[2*self.get_w(j)*self.t[j] for j in range(self.d)]+ \\\n",
    "             [self.matrix_B_corner, 0]] + \\\n",
    "            [[2*self.get_w(j)*self.u[j] for j in range(self.d)]+[0, self.q]])\n",
    "    \n",
    "    def add_ineq(self, ti, ui, li_or_wi=None):\n",
    "        if li_or_wi and li_or_wi!=self.default:\n",
    "            self.l_or_w_dict[self.d] = li_or_wi\n",
    "        self.t.append(ti)\n",
    "        self.u.append(ui)\n",
    "        self.d += 1\n",
    "        return self\n",
    "    \n",
    "    def pop_ineq(self):\n",
    "        self.d -= 1\n",
    "        return (self.t.pop(), self.u.pop(),\n",
    "                self.l_or_w_dict.pop(self.d, self.default))\n",
    "    \n",
    "    def make_intervals(self, find_integers=True):\n",
    "        self.interval_list = intersect_interval_lists( \\\n",
    "            [make_interval_list_HNP(self.q, self.t[i], self.u[i], self.get_w(i)) \\\n",
    "             for i in range(self.d)]+[[(0,self.q)]])\n",
    "        self.number_of_intervals = len(self.interval_list)\n",
    "        if self.interval_list[0][0]==0 and self.interval_list[-1][1]==self.q \\\n",
    "                and self.check_solution(0):\n",
    "            self.number_of_intervals -= 1\n",
    "        if find_integers:\n",
    "            self.integer_solution_from_intervals()\n",
    "        return self\n",
    "    \n",
    "    def bruteforce_integer_solution(self):\n",
    "        ret = []\n",
    "        for i in range(self.q):\n",
    "            if self.check_solution(i):\n",
    "                ret.append(i)\n",
    "        self.solution_list = ret\n",
    "        self.number_of_solutions = len(ret)\n",
    "        return self\n",
    "    \n",
    "    def integer_solution_from_intervals(self):\n",
    "        assert self.interval_list\n",
    "        ret = []\n",
    "        if self.check_solution(0):\n",
    "            ret.append(0)\n",
    "        for r in self.interval_list:\n",
    "            ret.extend(range(math.floor(r[0]+1), math.ceil(r[1])))\n",
    "        if self.solution_list is None:\n",
    "            self.number_of_solutions = len(ret)\n",
    "            self.solution_list = ret\n",
    "        else:\n",
    "            assert self.number_of_solutions == len(ret)\n",
    "            assert self.solution_list == ret\n",
    "        return self\n",
    "    \n",
    "    # yields solutions to two HNP inequalities (at indices i, j)\n",
    "    # the yielded solutions are not ordered\n",
    "    def two_ineq_solution_generator(self, i=0, j=1):\n",
    "        c1 = ceil(self.q/(2*self.get_w(i))-1)\n",
    "        c2 = ceil(self.q/(2*self.get_w(j))-1)\n",
    "        t1_1 = mod_inversion(self.t[i], self.q)\n",
    "        u1_bar, u2_bar = self.u[i]-c1, self.u[j]-c2\n",
    "        tk = (t1_1*self.t[j])%self.q\n",
    "        vk = (-u1_bar*t1_1*self.t[j]+u2_bar)%self.q\n",
    "        for x1 in self.decentered_ineq_solution_generator(self.q,tk,vk,2*c2):\n",
    "            if x1 <= 2*c1:\n",
    "                yield ((x1+u1_bar)*t1_1)%self.q\n",
    "            else:\n",
    "                break\n",
    "    \n",
    "    # yielded values are increasing non-negative integers\n",
    "    # assuming li is at least 1 bit ???\n",
    "    def ineq_solution_generator(self, q, ti, ui, wi):\n",
    "        r = 2*ceil(q/(2*wi)-1)\n",
    "        vi = (ui-r//2)%q\n",
    "        yield from self.decentered_ineq_solution_generator(q, ti, vi, r)\n",
    "    \n",
    "    # yields solutions to the given decentered HNP inequality\n",
    "    # solutions are yielded in increasing order\n",
    "    # assuming 0 <= r < n/2\n",
    "    # intentionally unoptimized (aim for shorter code)\n",
    "    def decentered_ineq_solution_generator(self, n, ti, vi, r):\n",
    "        if ti > n//2:\n",
    "            ti, vi = n-ti, (n-vi-r)%n\n",
    "        b = 0\n",
    "        while True:\n",
    "            while (b*ti-vi)%n <= r:\n",
    "                yield b\n",
    "                b += 1\n",
    "            b += ((n-(b*ti-vi)%n)-1)//ti+1\n",
    "            if (b*ti-vi)%n > r:\n",
    "                break\n",
    "        s = ((n-1)//ti+1)\n",
    "        t_new = s*ti-n\n",
    "        for x in self.decentered_ineq_solution_generator(ti, t_new,\n",
    "                                                         (vi-(b-1)*ti)%n, r):\n",
    "            yield b-1 + x*s - (x*t_new)//ti\n",
    "\n"
   ]
  },
  {
   "cell_type": "code",
   "execution_count": 49,
   "metadata": {},
   "outputs": [
    {
     "data": {
      "text/plain": [
       "<__main__.HNP object at 0x6fe46feb4a8>"
      ]
     },
     "execution_count": 49,
     "metadata": {},
     "output_type": "execute_result"
    }
   ],
   "source": [
    "h = HNP(1999,3)\n",
    "h.make_random(3)\n",
    "h.make_reduced_HNP()\n",
    "h.bruteforce_integer_solution()\n",
    "h.make_intervals()\n",
    "h.integer_solution_from_intervals()\n",
    "h.make_reduced_HNP()\n",
    "h.reduced_HNP.bruteforce_integer_solution()\n",
    "h.reduced_HNP.make_intervals()\n",
    "h.reduced_HNP.integer_solution_from_intervals()"
   ]
  },
  {
   "cell_type": "code",
   "execution_count": 92,
   "metadata": {},
   "outputs": [
    {
     "name": "stdout",
     "output_type": "stream",
     "text": [
      "[512, 644, 570, 496, 422, 480, 406, 332, 390, 316, 226, 136, 46, 1274, 1184, 1094, 1020, 1078, 1004, 930, 988, 914, 840, 766, 898, 824, 750, 676, 734, 660, 586]\n"
     ]
    }
   ],
   "source": [
    "print(h.solutions_from_reduced_HNP())"
   ]
  },
  {
   "cell_type": "code",
   "execution_count": 51,
   "metadata": {},
   "outputs": [
    {
     "data": {
      "text/plain": [
       "[422, 496, 512, 570, 586, 644, 660, 734]"
      ]
     },
     "execution_count": 51,
     "metadata": {},
     "output_type": "execute_result"
    }
   ],
   "source": [
    "h.solution_list"
   ]
  },
  {
   "cell_type": "code",
   "execution_count": 52,
   "metadata": {},
   "outputs": [
    {
     "data": {
      "text/plain": [
       "[31984     0     0     0     0]\n",
       "[    0 31984     0     0     0]\n",
       "[    0     0 31984     0     0]\n",
       "[28080 22032  3888     1     0]\n",
       "[14256 20320  7632     0  1999]"
      ]
     },
     "execution_count": 52,
     "metadata": {},
     "output_type": "execute_result"
    }
   ],
   "source": [
    "h.make_matrix_C()"
   ]
  },
  {
   "cell_type": "code",
   "execution_count": 53,
   "metadata": {},
   "outputs": [
    {
     "data": {
      "text/plain": [
       "<__main__.HNP object at 0x6fe46feb470>"
      ]
     },
     "execution_count": 53,
     "metadata": {},
     "output_type": "execute_result"
    }
   ],
   "source": [
    "h.make_intervals()"
   ]
  },
  {
   "cell_type": "code",
   "execution_count": 55,
   "metadata": {},
   "outputs": [
    {
     "data": {
      "text/plain": [
       "<__main__.HNP object at 0x6fe46feb470>"
      ]
     },
     "execution_count": 55,
     "metadata": {},
     "output_type": "execute_result"
    }
   ],
   "source": [
    "h.integer_solution_from_intervals()"
   ]
  },
  {
   "cell_type": "code",
   "execution_count": 56,
   "metadata": {},
   "outputs": [
    {
     "data": {
      "text/plain": [
       "[422, 496, 512, 570, 586, 644, 660, 734]"
      ]
     },
     "execution_count": 56,
     "metadata": {},
     "output_type": "execute_result"
    }
   ],
   "source": [
    "h.solution_list"
   ]
  },
  {
   "cell_type": "code",
   "execution_count": 57,
   "metadata": {},
   "outputs": [
    {
     "data": {
      "text/plain": [
       "8"
      ]
     },
     "execution_count": 57,
     "metadata": {},
     "output_type": "execute_result"
    }
   ],
   "source": [
    "h.number_of_solutions"
   ]
  },
  {
   "cell_type": "code",
   "execution_count": 58,
   "metadata": {},
   "outputs": [
    {
     "data": {
      "text/plain": [
       "81"
      ]
     },
     "execution_count": 58,
     "metadata": {},
     "output_type": "execute_result"
    }
   ],
   "source": [
    "h.number_of_intervals"
   ]
  },
  {
   "cell_type": "code",
   "execution_count": 91,
   "metadata": {},
   "outputs": [
    {
     "name": "stdout",
     "output_type": "stream",
     "text": [
      "[1, 93, 102, 111, 120, 221, 230, 239, 340, 349, 468, 587, 706, 1259, 1378, 1497, 1506, 1607, 1616, 1625, 1726, 1735, 1744, 1753, 1845, 1854, 1863, 1872, 1973, 1982, 1991]\n"
     ]
    }
   ],
   "source": [
    "print(h.reduced_HNP.solution_list)"
   ]
  },
  {
   "cell_type": "code",
   "execution_count": 81,
   "metadata": {},
   "outputs": [],
   "source": [
    "h.reduced_HNP.alpha = 120"
   ]
  },
  {
   "cell_type": "code",
   "execution_count": 82,
   "metadata": {},
   "outputs": [
    {
     "data": {
      "text/plain": [
       "422"
      ]
     },
     "execution_count": 82,
     "metadata": {},
     "output_type": "execute_result"
    }
   ],
   "source": [
    "h.solution_from_reduced_HNP()"
   ]
  },
  {
   "cell_type": "code",
   "execution_count": 62,
   "metadata": {},
   "outputs": [
    {
     "data": {
      "text/plain": [
       "[31984     0     0]\n",
       "[    0 31984     0]\n",
       "[24992 10752     8]"
      ]
     },
     "execution_count": 62,
     "metadata": {},
     "output_type": "execute_result"
    }
   ],
   "source": [
    "h.reduced_HNP.make_matrix_B()"
   ]
  },
  {
   "cell_type": "code",
   "execution_count": 63,
   "metadata": {},
   "outputs": [
    {
     "data": {
      "text/plain": [
       "[31984     0     0     0]\n",
       "[    0 31984     0     0]\n",
       "[24992 10752     8     0]\n",
       "[23104  9056     0  1999]"
      ]
     },
     "execution_count": 63,
     "metadata": {},
     "output_type": "execute_result"
    }
   ],
   "source": [
    "h.reduced_HNP.make_matrix_C()"
   ]
  },
  {
   "cell_type": "code",
   "execution_count": 72,
   "metadata": {},
   "outputs": [
    {
     "data": {
      "text/plain": [
       "True"
      ]
     },
     "execution_count": 72,
     "metadata": {},
     "output_type": "execute_result"
    }
   ],
   "source": [
    "h.check_solution(570)"
   ]
  },
  {
   "cell_type": "code",
   "execution_count": 83,
   "metadata": {},
   "outputs": [
    {
     "data": {
      "text/plain": [
       "True"
      ]
     },
     "execution_count": 83,
     "metadata": {},
     "output_type": "execute_result"
    }
   ],
   "source": [
    "h.check_solution_float(422)"
   ]
  },
  {
   "cell_type": "code",
   "execution_count": 84,
   "metadata": {},
   "outputs": [],
   "source": [
    "while True:\n",
    "    n = HNP(1999,3)\n",
    "    n.make_random(3)\n",
    "    if n.check_solution(0):\n",
    "        break\n"
   ]
  },
  {
   "cell_type": "code",
   "execution_count": 85,
   "metadata": {},
   "outputs": [
    {
     "data": {
      "text/plain": [
       "<__main__.HNP object at 0x6fe4e5f5ef0>"
      ]
     },
     "execution_count": 85,
     "metadata": {},
     "output_type": "execute_result"
    }
   ],
   "source": [
    "n.make_intervals().integer_solution_from_intervals()"
   ]
  },
  {
   "cell_type": "code",
   "execution_count": 86,
   "metadata": {},
   "outputs": [
    {
     "name": "stdout",
     "output_type": "stream",
     "text": [
      "[0, 5, 10, 15, 20, 1002, 1007, 1012, 1017]\n"
     ]
    }
   ],
   "source": [
    "print(n.solution_list)"
   ]
  },
  {
   "cell_type": "code",
   "execution_count": 87,
   "metadata": {},
   "outputs": [
    {
     "data": {
      "text/plain": [
       "52"
      ]
     },
     "execution_count": 87,
     "metadata": {},
     "output_type": "execute_result"
    }
   ],
   "source": [
    "n.number_of_intervals"
   ]
  },
  {
   "cell_type": "code",
   "execution_count": 88,
   "metadata": {},
   "outputs": [
    {
     "data": {
      "text/plain": [
       "53"
      ]
     },
     "execution_count": 88,
     "metadata": {},
     "output_type": "execute_result"
    }
   ],
   "source": [
    "len(n.interval_list)"
   ]
  },
  {
   "cell_type": "code",
   "execution_count": null,
   "metadata": {},
   "outputs": [],
   "source": []
  },
  {
   "cell_type": "code",
   "execution_count": 49,
   "metadata": {},
   "outputs": [],
   "source": [
    "p = HNP(11,0.4)"
   ]
  },
  {
   "cell_type": "code",
   "execution_count": 50,
   "metadata": {},
   "outputs": [
    {
     "data": {
      "text/plain": [
       "<__main__.HNP object at 0x6fe4d6172e8>"
      ]
     },
     "execution_count": 50,
     "metadata": {},
     "output_type": "execute_result"
    }
   ],
   "source": [
    "p.make_random(2)"
   ]
  },
  {
   "cell_type": "code",
   "execution_count": 51,
   "metadata": {},
   "outputs": [
    {
     "name": "stdout",
     "output_type": "stream",
     "text": [
      "5, 9, 2, 4, 6, 8, 10, "
     ]
    }
   ],
   "source": [
    "for val in p.two_ineq_solution_generator():\n",
    "    print(val, end=\", \")"
   ]
  },
  {
   "cell_type": "code",
   "execution_count": 52,
   "metadata": {},
   "outputs": [
    {
     "data": {
      "text/plain": [
       "[(0.228972430262051, 0.861370092983932),\n",
       " (1.60397243026205, 2.64602756973795),\n",
       " (3.13862990701607, 4.02102756973795),\n",
       " (4.35397243026205, 4.52803675965060),\n",
       " (4.97196324034940, 5.39602756973795),\n",
       " (5.72897243026205, 6.36137009298393),\n",
       " (7.10397243026205, 8.14602756973795),\n",
       " (8.63862990701607, 9.52102756973795),\n",
       " (9.85397243026205, 10.0280367596506),\n",
       " (10.4719632403494, 10.8960275697379)]"
      ]
     },
     "execution_count": 52,
     "metadata": {},
     "output_type": "execute_result"
    }
   ],
   "source": [
    "p.make_intervals().interval_list"
   ]
  },
  {
   "cell_type": "code",
   "execution_count": 53,
   "metadata": {},
   "outputs": [
    {
     "data": {
      "text/plain": [
       "[2, 4, 5, 6, 8, 9, 10]"
      ]
     },
     "execution_count": 53,
     "metadata": {},
     "output_type": "execute_result"
    }
   ],
   "source": [
    "p.solution_list"
   ]
  },
  {
   "cell_type": "code",
   "execution_count": 54,
   "metadata": {},
   "outputs": [
    {
     "data": {
      "text/plain": [
       "<__main__.HNP object at 0x6fe4d6172e8>"
      ]
     },
     "execution_count": 54,
     "metadata": {},
     "output_type": "execute_result"
    }
   ],
   "source": [
    "p.bruteforce_integer_solution()"
   ]
  },
  {
   "cell_type": "code",
   "execution_count": 55,
   "metadata": {},
   "outputs": [
    {
     "name": "stdout",
     "output_type": "stream",
     "text": [
      "[2, 4, 5, 6, 8, 9, 10]\n",
      "1.31950791077289\n"
     ]
    }
   ],
   "source": [
    "print(p.solution_list)\n",
    "print(p.get_w())"
   ]
  },
  {
   "cell_type": "code",
   "execution_count": 57,
   "metadata": {},
   "outputs": [
    {
     "data": {
      "text/plain": [
       "10"
      ]
     },
     "execution_count": 57,
     "metadata": {},
     "output_type": "execute_result"
    }
   ],
   "source": [
    "p.number_of_intervals"
   ]
  },
  {
   "cell_type": "code",
   "execution_count": 58,
   "metadata": {},
   "outputs": [
    {
     "name": "stdout",
     "output_type": "stream",
     "text": [
      "0, 3, 10, 17, 20, "
     ]
    }
   ],
   "source": [
    "for y in p.ineq_solution_generator(17, 5, 16, 7):\n",
    "    if y>25:\n",
    "        break\n",
    "    print(y, end=\", \")"
   ]
  },
  {
   "cell_type": "code",
   "execution_count": 59,
   "metadata": {},
   "outputs": [
    {
     "name": "stdout",
     "output_type": "stream",
     "text": [
      "3, 10, 13, 20, "
     ]
    }
   ],
   "source": [
    "for y in p.ineq_solution_generator(17, 5, 15, 7):\n",
    "    if y>25:\n",
    "        break\n",
    "    print(y, end=\", \")"
   ]
  },
  {
   "cell_type": "code",
   "execution_count": 60,
   "metadata": {},
   "outputs": [
    {
     "data": {
      "text/plain": [
       "<__main__.HNP object at 0x6fe40e16a90>"
      ]
     },
     "execution_count": 60,
     "metadata": {},
     "output_type": "execute_result"
    }
   ],
   "source": [
    "r = HNP(17, 7, False)\n",
    "r.add_ineq(5,15,7)"
   ]
  },
  {
   "cell_type": "code",
   "execution_count": 61,
   "metadata": {},
   "outputs": [
    {
     "data": {
      "text/plain": [
       "[5]"
      ]
     },
     "execution_count": 61,
     "metadata": {},
     "output_type": "execute_result"
    }
   ],
   "source": [
    "r.t"
   ]
  },
  {
   "cell_type": "code",
   "execution_count": 62,
   "metadata": {},
   "outputs": [
    {
     "data": {
      "text/plain": [
       "<__main__.HNP object at 0x6fe40e16a90>"
      ]
     },
     "execution_count": 62,
     "metadata": {},
     "output_type": "execute_result"
    }
   ],
   "source": [
    "r.make_intervals()"
   ]
  },
  {
   "cell_type": "code",
   "execution_count": 63,
   "metadata": {},
   "outputs": [
    {
     "data": {
      "text/plain": [
       "[3, 10, 13]"
      ]
     },
     "execution_count": 63,
     "metadata": {},
     "output_type": "execute_result"
    }
   ],
   "source": [
    "r.solution_list"
   ]
  },
  {
   "cell_type": "code",
   "execution_count": 64,
   "metadata": {},
   "outputs": [
    {
     "data": {
      "text/plain": [
       "<__main__.HNP object at 0x6fe40e16a90>"
      ]
     },
     "execution_count": 64,
     "metadata": {},
     "output_type": "execute_result"
    }
   ],
   "source": [
    "r.bruteforce_integer_solution()"
   ]
  },
  {
   "cell_type": "code",
   "execution_count": 65,
   "metadata": {},
   "outputs": [
    {
     "data": {
      "text/plain": [
       "[3, 10, 13]"
      ]
     },
     "execution_count": 65,
     "metadata": {},
     "output_type": "execute_result"
    }
   ],
   "source": [
    "r.solution_list"
   ]
  },
  {
   "cell_type": "code",
   "execution_count": 66,
   "metadata": {},
   "outputs": [
    {
     "name": "stdout",
     "output_type": "stream",
     "text": [
      "0 False\n",
      "1 False\n",
      "2 False\n",
      "3 True\n",
      "4 False\n",
      "5 False\n",
      "6 False\n",
      "7 False\n",
      "8 False\n",
      "9 False\n",
      "10 True\n",
      "11 False\n",
      "12 False\n",
      "13 True\n",
      "14 False\n",
      "15 False\n",
      "16 False\n"
     ]
    }
   ],
   "source": [
    "for i in range(17):\n",
    "    print(i, r.check_solution(i))"
   ]
  },
  {
   "cell_type": "code",
   "execution_count": null,
   "metadata": {},
   "outputs": [],
   "source": []
  }
 ],
 "metadata": {
  "kernelspec": {
   "display_name": "SageMath 9.1",
   "language": "sage",
   "name": "sagemath"
  },
  "language_info": {
   "codemirror_mode": {
    "name": "ipython",
    "version": 3
   },
   "file_extension": ".py",
   "mimetype": "text/x-python",
   "name": "python",
   "nbconvert_exporter": "python",
   "pygments_lexer": "ipython3",
   "version": "3.7.3"
  }
 },
 "nbformat": 4,
 "nbformat_minor": 2
}
