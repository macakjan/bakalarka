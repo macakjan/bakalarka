{
 "cells": [
  {
   "cell_type": "code",
   "execution_count": 22,
   "metadata": {},
   "outputs": [],
   "source": [
    "import time\n",
    "import lattice_challenges_01"
   ]
  },
  {
   "cell_type": "code",
   "execution_count": 23,
   "metadata": {},
   "outputs": [],
   "source": [
    "def subtract_row_in_triangular(input_matrix, line_index, by_index, k):\n",
    "    for i in range(by_index+1):\n",
    "        input_matrix[line_index, i] -= k*input_matrix[by_index, i]\n",
    "\n",
    "def gram_schmidt_mu(v_i, v_j):\n",
    "    return (v_i*v_j)/(v_j*v_j)\n",
    "\n",
    "def mu(i, j, basis, gso):\n",
    "    return gram_schmidt_mu(basis[i], gso[j])\n",
    "\n",
    "def gram_schmidt_orthogonalization(basis):\n",
    "    ret = matrix(RR, basis.nrows(), basis.ncols())\n",
    "    for i in range(basis.nrows()):\n",
    "        vector_being_orthogonalized = basis[i]\n",
    "        for j in range(i):\n",
    "            vector_being_orthogonalized -= gram_schmidt_mu(vector_being_orthogonalized, ret[j])*ret[j]\n",
    "        ret[i] = vector_being_orthogonalized\n",
    "    return ret\n",
    "\n",
    "def LLL_usual_condition(input_basis, delta):\n",
    "    basis = copy(input_basis)\n",
    "    number_of_vectors = basis.nrows()\n",
    "    gso = gram_schmidt_orthogonalization(basis)\n",
    "    i = 0\n",
    "    while i < number_of_vectors:\n",
    "        for j in range(i-1, -1, -1):\n",
    "            basis[i] -= round(mu(i, j, basis, gso))*basis[j]\n",
    "        if i > 0 and (delta - mu(i, i-1, basis, gso)**2)*(gso[i-1]*gso[i-1]) > gso[i]*gso[i]:\n",
    "            g_i_1 = gso[i] + mu(i, i-1, basis, gso)*gso[i-1]\n",
    "            gso[i] = gso[i-1] - gram_schmidt_mu(basis[i-1], g_i_1)*g_i_1\n",
    "            gso[i-1] = g_i_1\n",
    "            basis[i], basis[i-1] = basis[i-1], basis[i]\n",
    "            i -= 1\n",
    "        else:\n",
    "            i += 1\n",
    "    return basis\n",
    "\n",
    "def LLL_unusual_condition(input_basis, delta):\n",
    "    basis = copy(input_basis)\n",
    "    number_of_vectors = basis.nrows()\n",
    "    gso = gram_schmidt_orthogonalization(basis)\n",
    "    i = 0\n",
    "    while i < number_of_vectors:\n",
    "        for j in range(i-1, -1, -1):\n",
    "            basis[i] -= round(mu(i, j, basis, gso))*basis[j]\n",
    "        if i > 0 and delta*(gso[i-1]*gso[i-1]) > gso[i]*gso[i]:\n",
    "            g_i_1 = gso[i] + mu(i, i-1, basis, gso)*gso[i-1]\n",
    "            gso[i] = gso[i-1] - gram_schmidt_mu(basis[i-1], g_i_1)*g_i_1\n",
    "            gso[i-1] = g_i_1\n",
    "            basis[i], basis[i-1] = basis[i-1], basis[i]\n",
    "            i -= 1\n",
    "        else:\n",
    "            i += 1\n",
    "    return basis\n",
    "\n",
    "def add_line_to_triangular_matrix_diag(ret, current_row, ort_basis, diag_value):\n",
    "    for i in range(current_row-1, -1, -1):\n",
    "        t = gram_schmidt_mu(ort_basis[current_row], ort_basis[i])\n",
    "        ort_basis[current_row] -= t*ort_basis[i]\n",
    "        ret[current_row, i] = t*ret[i, i]\n",
    "    ret[current_row, current_row] = diag_value\n",
    "\n",
    "def add_line_to_triangular_matrix(ret, current_row, ort_basis):\n",
    "    for i in range(current_row-1, -1, -1):\n",
    "        t = gram_schmidt_mu(ort_basis[current_row], ort_basis[i])\n",
    "        ort_basis[current_row] -= t*ort_basis[i]\n",
    "        ret[current_row, i] = t*ret[i, i]\n",
    "    ret[current_row, current_row] = sqrt(ort_basis[current_row]*ort_basis[current_row])\n",
    "\n",
    "def triangularize_basis(basis, number_of_small_diagonal_elements):\n",
    "    ret = matrix(RR, basis.nrows(), basis.nrows())\n",
    "    ort_basis = matrix(RR, basis)\n",
    "    current_row = 0\n",
    "    while current_row < number_of_small_diagonal_elements:\n",
    "        min_so_far = math.inf\n",
    "        for m in range(current_row, ort_basis.nrows()):\n",
    "            avec = ort_basis[m]\n",
    "            for i in range(current_row):\n",
    "                avec -= gram_schmidt_mu(avec, ort_basis[i])*ort_basis[i]\n",
    "            t = sqrt(avec*avec)\n",
    "            if t < min_so_far:\n",
    "                min_so_far = t\n",
    "                index_of_min_so_far = m\n",
    "        if index_of_min_so_far != current_row:\n",
    "            ort_basis[current_row], ort_basis[index_of_min_so_far] = ort_basis[index_of_min_so_far], ort_basis[current_row]\n",
    "            basis[current_row], basis[index_of_min_so_far] = basis[index_of_min_so_far], basis[current_row]\n",
    "        add_line_to_triangular_matrix_diag(ret, current_row, ort_basis, min_so_far)\n",
    "        current_row += 1\n",
    "    while current_row < ort_basis.nrows():\n",
    "        add_line_to_triangular_matrix(ret, current_row, ort_basis)\n",
    "        current_row += 1\n",
    "    return ret\n",
    "\n",
    "def reduce_triangular_basis(triangular_basis, parallel_basis):\n",
    "    change = False\n",
    "    for current_row in range(triangular_basis.nrows()-1, -1, -1):\n",
    "        for m in range(current_row+1, triangular_basis.nrows()):\n",
    "            t = round(triangular_basis[m, current_row]/triangular_basis[current_row, current_row])\n",
    "            if t != 0:\n",
    "                change = True\n",
    "                subtract_row_in_triangular(triangular_basis, m, current_row, t)\n",
    "                parallel_basis[m] -= t*parallel_basis[current_row]\n",
    "    return change\n",
    "\n",
    "def reduce_basis_using_triangular(input_basis, number_of_small_diagonal_elements):\n",
    "    basis = copy(input_basis)\n",
    "    change = True\n",
    "    while change:\n",
    "        triangular_basis = triangularize_basis(basis, number_of_small_diagonal_elements)\n",
    "        change = reduce_triangular_basis(triangular_basis, basis)\n",
    "    return basis\n",
    "\n",
    "def swap_rows_in_triangular_basis(triangular_basis, i):\n",
    "    bk = triangular_basis[i, i-1]\n",
    "    ak = triangular_basis[i-1, i-1]\n",
    "    bk1 = triangular_basis[i, i]\n",
    "    triangular_basis[i, i-1] = sqrt(bk**2+bk1**2)\n",
    "    triangular_basis[i-1, i-1] = ak*bk/triangular_basis[i, i-1]\n",
    "    triangular_basis[i-1, i] = ak*bk1/triangular_basis[i, i-1]\n",
    "    triangular_basis[i, i] = 0\n",
    "    triangular_basis[i], triangular_basis[i-1] = triangular_basis[i-1], triangular_basis[i]\n",
    "    for x in range(i+1, triangular_basis.nrows()):\n",
    "        xa = triangular_basis[x, i-1]\n",
    "        triangular_basis[x, i-1] = (xa*bk+triangular_basis[x, i]*bk1)/triangular_basis[i-1, i-1]\n",
    "        triangular_basis[x, i] = (xa*ak-triangular_basis[x, i-1]*triangular_basis[i, i-1])/triangular_basis[i, i]\n",
    "\n",
    "def LLL_usual_condition_using_triangular(input_basis, delta):\n",
    "    number_of_vectors = input_basis.nrows()\n",
    "    basis = copy(input_basis)\n",
    "    triangular_basis = triangularize_basis(basis, 0)\n",
    "    i = 0\n",
    "    flag = True\n",
    "    while i < number_of_vectors:\n",
    "        if flag:\n",
    "            for j in range(i-1, -1, -1):\n",
    "                t = round(triangular_basis[i, j]/triangular_basis[j, j])\n",
    "                subtract_row_in_triangular(triangular_basis, i, j, t)\n",
    "                basis[i] -= t*basis[j]\n",
    "        if i>0 and triangular_basis[i-1, i-1]**2*(delta-(triangular_basis[i, i-1]/triangular_basis[i-1, i-1])**2) > triangular_basis[i, i]**2:\n",
    "            swap_rows_in_triangular_basis(triangular_basis, i)\n",
    "            basis[i], basis[i-1] = basis[i-1], basis[i]\n",
    "            i -= 1\n",
    "            flag = False\n",
    "        else:\n",
    "            i += 1\n",
    "            flag = True\n",
    "    return basis\n",
    "\n",
    "def LLL_unusual_condition_using_triangular(input_basis, delta):\n",
    "    sqrt_delta = sqrt(delta)\n",
    "    number_of_vectors = input_basis.nrows()\n",
    "    basis = copy(input_basis)\n",
    "    triangular_basis = triangularize_basis(basis, 0)\n",
    "    i = 0\n",
    "    flag = True\n",
    "    while i < number_of_vectors:\n",
    "        if flag:\n",
    "            for j in range(i-1, -1, -1):\n",
    "                t = round(triangular_basis[i, j]/triangular_basis[j, j])\n",
    "                subtract_row_in_triangular(triangular_basis, i, j, t)\n",
    "                basis[i] -= t*basis[j]\n",
    "        if i>0 and triangular_basis[i-1, i-1]*sqrt_delta > triangular_basis[i, i]:\n",
    "            swap_rows_in_triangular_basis(triangular_basis, i)\n",
    "            basis[i], basis[i-1] = basis[i-1], basis[i]\n",
    "            i -= 1\n",
    "            flag = False\n",
    "        else:\n",
    "            i += 1\n",
    "            flag = True\n",
    "    return basis\n"
   ]
  },
  {
   "cell_type": "code",
   "execution_count": 24,
   "metadata": {},
   "outputs": [],
   "source": [
    "def LLL_usual_condition_time(input_basis, delta):\n",
    "    print(\"LLL_usual_condition_time has been launched at time:\")\n",
    "    print(time.time())\n",
    "    print(\"on a matrix of dimension:\")\n",
    "    print(str(input_basis.nrows()) + \" times \" + str(input_basis.ncols()))\n",
    "    print(\"with delta:\")\n",
    "    print(delta)\n",
    "    basis = copy(input_basis)\n",
    "    start_time = time.time()\n",
    "    number_of_vectors = basis.nrows()\n",
    "    gso = gram_schmidt_orthogonalization(basis)\n",
    "    i = 0\n",
    "    start_of_while_cycle_time = time.time()\n",
    "    while i < number_of_vectors:\n",
    "        for j in range(i-1, -1, -1):\n",
    "            basis[i] -= round(mu(i, j, basis, gso))*basis[j]\n",
    "        if i > 0 and (delta - mu(i, i-1, basis, gso)**2)*(gso[i-1]*gso[i-1]) > gso[i]*gso[i]:\n",
    "            g_i_1 = gso[i] + mu(i, i-1, basis, gso)*gso[i-1]\n",
    "            gso[i] = gso[i-1] - gram_schmidt_mu(basis[i-1], g_i_1)*g_i_1\n",
    "            gso[i-1] = g_i_1\n",
    "            basis[i], basis[i-1] = basis[i-1], basis[i]\n",
    "            i -= 1\n",
    "        else:\n",
    "            i += 1\n",
    "    stop_time = time.time()\n",
    "    print(\"measured times:\")\n",
    "    print((start_time, start_of_while_cycle_time, stop_time))\n",
    "    print((start_of_while_cycle_time - start_time, stop_time - start_time))\n",
    "    print(\"LLL_usual_condition_time stops.\")\n",
    "    print()\n",
    "    return basis\n",
    "\n",
    "def LLL_unusual_condition_time(input_basis, delta):\n",
    "    print(\"LLL_unusual_condition_time has been launched at time:\")\n",
    "    print(time.time())\n",
    "    print(\"on a matrix of dimension:\")\n",
    "    print(str(input_basis.nrows()) + \" times \" + str(input_basis.ncols()))\n",
    "    print(\"with delta:\")\n",
    "    print(delta)\n",
    "    basis = copy(input_basis)\n",
    "    start_time = time.time()\n",
    "    number_of_vectors = basis.nrows()\n",
    "    gso = gram_schmidt_orthogonalization(basis)\n",
    "    i = 0\n",
    "    start_of_while_cycle_time = time.time()\n",
    "    while i < number_of_vectors:\n",
    "        for j in range(i-1, -1, -1):\n",
    "            basis[i] -= round(mu(i, j, basis, gso))*basis[j]\n",
    "        if i > 0 and delta*(gso[i-1]*gso[i-1]) > gso[i]*gso[i]:\n",
    "            g_i_1 = gso[i] + mu(i, i-1, basis, gso)*gso[i-1]\n",
    "            gso[i] = gso[i-1] - gram_schmidt_mu(basis[i-1], g_i_1)*g_i_1\n",
    "            gso[i-1] = g_i_1\n",
    "            basis[i], basis[i-1] = basis[i-1], basis[i]\n",
    "            i -= 1\n",
    "        else:\n",
    "            i += 1\n",
    "    stop_time = time.time()\n",
    "    print(\"measured times:\")\n",
    "    print((start_time, start_of_while_cycle_time, stop_time))\n",
    "    print((start_of_while_cycle_time - start_time, stop_time - start_time))\n",
    "    print(\"LLL_unusual_condition_time stops.\")\n",
    "    print()\n",
    "    return basis\n",
    "\n",
    "def reduce_basis_using_triangular_time(input_basis, number_of_small_diagonal_elements):\n",
    "    print(\"reduce_basis_using_triangular_time has been launched at time:\")\n",
    "    print(time.time())\n",
    "    print(\"on a matrix of dimension:\")\n",
    "    print(str(input_basis.nrows()) + \" times \" + str(input_basis.ncols()))\n",
    "    print(\"with number_of_small_diagonal_elements:\")\n",
    "    print(number_of_small_diagonal_elements)\n",
    "    basis = copy(input_basis)\n",
    "    start_time = time.time()\n",
    "    change = True\n",
    "    while change:\n",
    "        triangular_basis = triangularize_basis(basis, number_of_small_diagonal_elements)\n",
    "        change = reduce_triangular_basis(triangular_basis, basis)\n",
    "    stop_time = time.time()\n",
    "    print(\"measured times:\")\n",
    "    print((start_time, stop_time))\n",
    "    print(stop_time - start_time)\n",
    "    print(\"reduce_basis_using_triangular_time stops.\")\n",
    "    print()\n",
    "    return basis\n",
    "\n",
    "def LLL_usual_condition_using_triangular_time(input_basis, delta):\n",
    "    print(\"LLL_usual_condition_using_triangular_time has been launched at time:\")\n",
    "    print(time.time())\n",
    "    print(\"on a matrix of dimension:\")\n",
    "    print(str(input_basis.nrows()) + \" times \" + str(input_basis.ncols()))\n",
    "    print(\"with delta:\")\n",
    "    print(delta)\n",
    "    basis = copy(input_basis)\n",
    "    start_time = time.time()\n",
    "    number_of_vectors = input_basis.nrows()\n",
    "    triangular_basis = triangularize_basis(basis, 0)\n",
    "    i = 0\n",
    "    flag = True\n",
    "    start_of_while_cycle_time = time.time()\n",
    "    while i < number_of_vectors:\n",
    "        if flag:\n",
    "            for j in range(i-1, -1, -1):\n",
    "                t = round(triangular_basis[i, j]/triangular_basis[j, j])\n",
    "                subtract_row_in_triangular(triangular_basis, i, j, t)\n",
    "                basis[i] -= t*basis[j]\n",
    "        if i>0 and triangular_basis[i-1, i-1]**2*(delta-(triangular_basis[i, i-1]/triangular_basis[i-1, i-1])**2) > triangular_basis[i, i]**2:\n",
    "            swap_rows_in_triangular_basis(triangular_basis, i)\n",
    "            basis[i], basis[i-1] = basis[i-1], basis[i]\n",
    "            i -= 1\n",
    "            flag = False\n",
    "        else:\n",
    "            i += 1\n",
    "            flag = True\n",
    "    stop_time = time.time()\n",
    "    print(\"measured times:\")\n",
    "    print((start_time, start_of_while_cycle_time, stop_time))\n",
    "    print((start_of_while_cycle_time - start_time, stop_time - start_time))\n",
    "    print(\"LLL_usual_condition_using_triangular_time stops.\")\n",
    "    print()\n",
    "    return basis\n",
    "\n",
    "def LLL_unusual_condition_using_triangular_time(input_basis, delta):\n",
    "    print(\"LLL_unusual_condition_using_triangular_time has been launched at time:\")\n",
    "    print(time.time())\n",
    "    print(\"on a matrix of dimension:\")\n",
    "    print(str(input_basis.nrows()) + \" times \" + str(input_basis.ncols()))\n",
    "    print(\"with delta:\")\n",
    "    print(delta)\n",
    "    basis = copy(input_basis)\n",
    "    start_time = time.time()\n",
    "    sqrt_delta = sqrt(delta)\n",
    "    number_of_vectors = input_basis.nrows()\n",
    "    triangular_basis = triangularize_basis(basis, 0)\n",
    "    i = 0\n",
    "    flag = True\n",
    "    start_of_while_cycle_time = time.time()\n",
    "    while i < number_of_vectors:\n",
    "        if flag:\n",
    "            for j in range(i-1, -1, -1):\n",
    "                t = round(triangular_basis[i, j]/triangular_basis[j, j])\n",
    "                subtract_row_in_triangular(triangular_basis, i, j, t)\n",
    "                basis[i] -= t*basis[j]\n",
    "        if i>0 and triangular_basis[i-1, i-1]*sqrt_delta > triangular_basis[i, i]:\n",
    "            swap_rows_in_triangular_basis(triangular_basis, i)\n",
    "            basis[i], basis[i-1] = basis[i-1], basis[i]\n",
    "            i -= 1\n",
    "            flag = False\n",
    "        else:\n",
    "            i += 1\n",
    "            flag = True\n",
    "    stop_time = time.time()\n",
    "    print(\"measured times:\")\n",
    "    print((start_time, start_of_while_cycle_time, stop_time))\n",
    "    print((start_of_while_cycle_time - start_time, stop_time - start_time))\n",
    "    print(\"LLL_unusual_condition_using_triangular_time stops.\")\n",
    "    print()\n",
    "    return basis\n"
   ]
  },
  {
   "cell_type": "code",
   "execution_count": 25,
   "metadata": {},
   "outputs": [],
   "source": [
    "def taxicab_properties(input_matrix):\n",
    "    shortest_vector_norm = math.inf\n",
    "    longest_vector_norm = 0\n",
    "    sum_of_norms = 0\n",
    "    sum_of_logarithms_of_norms = 0.0  # natural log\n",
    "    for i in range(input_matrix.nrows()):\n",
    "        t = 0\n",
    "        for j in range(input_matrix.ncols()):\n",
    "            t += abs(input_matrix[i, j])\n",
    "        sum_of_norms += t\n",
    "        sum_of_logarithms_of_norms += float(log(t))\n",
    "        if t > longest_vector_norm:\n",
    "            longest_vector_norm = t\n",
    "        if t < shortest_vector_norm:\n",
    "            shortest_vector_norm = t\n",
    "    return (shortest_vector_norm, longest_vector_norm, sum_of_norms, sum_of_logarithms_of_norms)\n",
    "\n",
    "def chebyshev_properties(input_matrix):\n",
    "    shortest_vector_norm = math.inf\n",
    "    longest_vector_norm = 0\n",
    "    sum_of_norms = 0\n",
    "    sum_of_logarithms_of_norms = 0.0  # natural log\n",
    "    for i in range(input_matrix.nrows()):\n",
    "        t = 0\n",
    "        for j in range(input_matrix.ncols()):\n",
    "            t2 = abs(input_matrix[i, j])\n",
    "            if t2 > t:\n",
    "                t = t2\n",
    "        sum_of_norms += t\n",
    "        sum_of_logarithms_of_norms += float(log(t))\n",
    "        if t > longest_vector_norm:\n",
    "            longest_vector_norm = t\n",
    "        if t < shortest_vector_norm:\n",
    "            shortest_vector_norm = t\n",
    "    return (shortest_vector_norm, longest_vector_norm, sum_of_norms, sum_of_logarithms_of_norms)\n",
    "\n",
    "def euclidean_properties(input_matrix):\n",
    "    shortest_vector_norm = math.inf\n",
    "    longest_vector_norm = 0.0\n",
    "    sum_of_norms = 0.0\n",
    "    sum_of_logarithms_of_squared_norms = 0.0  # natural log\n",
    "    for i in range(input_matrix.nrows()):\n",
    "        t = 0.0\n",
    "        for j in range(input_matrix.ncols()):\n",
    "            t += input_matrix[i, j]**2\n",
    "        r = sqrt(t)\n",
    "        sum_of_norms += r\n",
    "        sum_of_logarithms_of_squared_norms += float(log(r))\n",
    "        if r > longest_vector_norm:\n",
    "            longest_vector_norm = r\n",
    "        if r < shortest_vector_norm:\n",
    "            shortest_vector_norm = r\n",
    "    return (shortest_vector_norm, longest_vector_norm, sum_of_norms, sum_of_logarithms_of_squared_norms)\n",
    "\n",
    "def all_properties(input_matrix):\n",
    "    print(euclidean_properties(input_matrix))\n",
    "    print(chebyshev_properties(input_matrix))\n",
    "    print(taxicab_properties(input_matrix))\n"
   ]
  },
  {
   "cell_type": "code",
   "execution_count": 17,
   "metadata": {},
   "outputs": [
    {
     "name": "stdout",
     "output_type": "stream",
     "text": [
      "LLL_usual_condition_time has been launched at time:\n",
      "1605182261.8236303\n",
      "on a matrix of dimension:\n",
      "250 times 250\n",
      "with delta:\n",
      "0.750000000000000\n",
      "measured times:\n",
      "(1605182261.8238673, 1605182276.997887, 1605183896.4866204)\n",
      "(15.174019575119019, 1634.6627531051636)\n",
      "LLL_usual_condition_time stops.\n",
      "\n",
      "LLL_usual_condition_using_triangular_time has been launched at time:\n",
      "1605183896.497222\n",
      "on a matrix of dimension:\n",
      "250 times 250\n",
      "with delta:\n",
      "0.750000000000000\n",
      "measured times:\n",
      "(1605183896.4975376, 1605183913.1894968, 1605184376.9508047)\n",
      "(16.691959142684937, 480.45326709747314)\n",
      "LLL_usual_condition_using_triangular_time stops.\n",
      "\n",
      "LLL_unusual_condition_time has been launched at time:\n",
      "1605184376.9615543\n",
      "on a matrix of dimension:\n",
      "250 times 250\n",
      "with delta:\n",
      "0.740000000000000\n",
      "measured times:\n",
      "(1605184376.9618263, 1605184392.2203374, 1605186134.5223186)\n",
      "(15.258511066436768, 1757.5604922771454)\n",
      "LLL_unusual_condition_time stops.\n",
      "\n",
      "LLL_unusual_condition_using_triangular_time has been launched at time:\n",
      "1605186134.5339696\n",
      "on a matrix of dimension:\n",
      "250 times 250\n",
      "with delta:\n",
      "0.740000000000000\n",
      "measured times:\n",
      "(1605186134.5345347, 1605186150.8537312, 1605186642.3829875)\n",
      "(16.319196462631226, 507.8484528064728)\n",
      "LLL_unusual_condition_using_triangular_time stops.\n",
      "\n",
      "(36.0000000000000, 146.386474785070, 27353.0392489488, 1156.01624115161)\n",
      "(30, 36, 8660, 886.144738180901)\n",
      "(36, 800, 136341, 1507.76766700461)\n",
      "(54.5068802996466, 94.7997890293011, 18326.1245389293, 1072.17465087101)\n",
      "(17, 52, 7246, 837.904589650253)\n",
      "(297, 565, 102806, 1503.09987185753)\n",
      "(54.5068802996466, 94.7997890293011, 18332.4444123309, 1072.26494705763)\n",
      "(17, 52, 7254, 838.128555908318)\n",
      "(297, 565, 102837, 1503.18298198674)\n",
      "(38.3275357934736, 69.1230786351418, 13070.7933489277, 987.884271176452)\n",
      "(11, 30, 4742, 732.242576840420)\n",
      "(253, 484, 89064, 1467.39400878378)\n",
      "(38.3275357934736, 69.1230786351418, 13079.6300296249, 988.069567928502)\n",
      "(11, 30, 4733, 731.850683809857)\n",
      "(253, 484, 89155, 1467.66963190340)\n"
     ]
    }
   ],
   "source": [
    "input_250 = matrix(lattice_challenges_01.challenge250())\n",
    "output_250_LLL_usual_condition = LLL_usual_condition_time(input_250, 0.75)\n",
    "output_250_LLL_usual_condition_using_triangular = LLL_usual_condition_using_triangular_time(input_250, 0.75)\n",
    "output_250_LLL_unusual_condition = LLL_unusual_condition_time(input_250, 0.74)\n",
    "output_250_LLL_unusual_condition_using_triangular = LLL_unusual_condition_using_triangular_time(input_250, 0.74)\n",
    "\n",
    "all_properties(input_250)\n",
    "all_properties(output_250_LLL_usual_condition)\n",
    "all_properties(output_250_LLL_usual_condition_using_triangular)\n",
    "all_properties(output_250_LLL_unusual_condition)\n",
    "all_properties(output_250_LLL_unusual_condition_using_triangular)\n"
   ]
  },
  {
   "cell_type": "code",
   "execution_count": 13,
   "metadata": {},
   "outputs": [
    {
     "name": "stdout",
     "output_type": "stream",
     "text": [
      "(33.0000000000000, 131.202134128984, 21719.5488315009, 1012.77060005235)\n",
      "(27, 33, 7130, 777.491172992671)\n",
      "(33, 702, 103756, 1320.47528501228)\n"
     ]
    }
   ],
   "source": [
    "all_properties(input_225)"
   ]
  },
  {
   "cell_type": "code",
   "execution_count": 8,
   "metadata": {},
   "outputs": [
    {
     "name": "stdout",
     "output_type": "stream",
     "text": [
      "(29.3087017795057, 62.0886463051015, 9210.92769341581, 764.246648695798)\n",
      "(11, 30, 3742, 582.502452842827)\n",
      "(144, 318, 50119, 1103.23590964591)\n",
      "(29.3087017795057, 62.0886463051015, 9193.25123974996, 763.862570195016)\n",
      "(11, 30, 3739, 582.362690900452)\n",
      "(144, 318, 50052, 1102.95550033279)\n",
      "(22.6715680975093, 44.3734154646676, 6749.84801155265, 702.667137914127)\n",
      "(8, 19, 2501, 502.386188226696)\n",
      "(129, 290, 44355, 1078.98580169324)\n",
      "(22.6715680975093, 44.3734154646676, 6750.61651166641, 702.691244894792)\n",
      "(8, 19, 2497, 502.049715990075)\n",
      "(129, 290, 44354, 1078.98093550359)\n"
     ]
    }
   ],
   "source": [
    "all_properties(output_200_LLL_usual_condition)\n",
    "all_properties(output_200_LLL_usual_condition_using_triangular)\n",
    "all_properties(output_200_LLL_unusual_condition)\n",
    "all_properties(output_200_LLL_unusual_condition_using_triangular)"
   ]
  },
  {
   "cell_type": "code",
   "execution_count": 9,
   "metadata": {},
   "outputs": [
    {
     "name": "stdout",
     "output_type": "stream",
     "text": [
      "(30.0000000000000, 104.503588455134, 12990.8934862417, 825.343832594793)\n",
      "(15, 30, 5331, 655.349824829410)\n",
      "(30, 495, 55614, 1082.63564079353)\n"
     ]
    }
   ],
   "source": [
    "all_properties(input_200)"
   ]
  },
  {
   "cell_type": "code",
   "execution_count": 39,
   "metadata": {},
   "outputs": [
    {
     "name": "stdout",
     "output_type": "stream",
     "text": [
      "[258   0   0]\n",
      "[129 224   0]\n",
      "[  0 113 999]\n",
      "[ 258    0    0]\n",
      "[-129  224    0]\n",
      "[-129 -111  999]\n",
      "[ 258    0    0]\n",
      "[-129  224    0]\n",
      "[-129 -111  999]\n"
     ]
    }
   ],
   "source": [
    "print(matrix([[258,0,0], [129,224,0], [0,113,999]]))\n",
    "print(LLL_usual_condition_using_triangular(matrix([[258,0,0], [129,224,0], [0,113,999]]), 1.00))\n",
    "print(LLL_usual_condition(matrix([[258,0,0], [129,224,0], [0,113,999]]), 1.00))\n",
    "#print(reduce_basis_using_triangular(matrix([[258,0,0], [129,224,0], [0,113,999]]), 0))"
   ]
  },
  {
   "cell_type": "code",
   "execution_count": 5,
   "metadata": {},
   "outputs": [
    {
     "data": {
      "text/plain": [
       "(42.8135492572153, 79.2590688817374, 12449.5092404704, 824.941493693207)"
      ]
     },
     "execution_count": 5,
     "metadata": {},
     "output_type": "execute_result"
    }
   ],
   "source": [
    "euclidean_properties(red)"
   ]
  },
  {
   "cell_type": "code",
   "execution_count": 6,
   "metadata": {},
   "outputs": [
    {
     "data": {
      "text/plain": [
       "(30.0000000000000, 104.503588455134, 12990.8934862417, 825.343832594793)"
      ]
     },
     "execution_count": 6,
     "metadata": {},
     "output_type": "execute_result"
    }
   ],
   "source": [
    "euclidean_properties(matrix(lattice_challenges_01.challenge200()))"
   ]
  },
  {
   "cell_type": "code",
   "execution_count": 7,
   "metadata": {},
   "outputs": [
    {
     "data": {
      "text/plain": [
       "[ 0  2  1]\n",
       "[-4  5 -8]\n",
       "[ 9  3 -7]"
      ]
     },
     "execution_count": 7,
     "metadata": {},
     "output_type": "execute_result"
    }
   ],
   "source": [
    "reduce_basis_using_triangular(matrix([[257,0,0],[61,1,0],[0,2,1]]), 2)"
   ]
  },
  {
   "cell_type": "code",
   "execution_count": 8,
   "metadata": {},
   "outputs": [
    {
     "data": {
      "text/plain": [
       "[ 0  2  1]\n",
       "[-4  5 -8]\n",
       "[ 9  3 -7]"
      ]
     },
     "execution_count": 8,
     "metadata": {},
     "output_type": "execute_result"
    }
   ],
   "source": [
    "LLL_usual_condition_using_triangular(matrix([[257,0,0],[61,1,0],[0,2,1]]), 0.75)"
   ]
  },
  {
   "cell_type": "code",
   "execution_count": 14,
   "metadata": {},
   "outputs": [],
   "source": [
    "start_time = time.time()\n",
    "Ap1 = LLL_usual_condition(matrix(lattice_challenges_01.challenge200()), 0.75)\n",
    "end_time = time.time()"
   ]
  },
  {
   "cell_type": "code",
   "execution_count": 15,
   "metadata": {},
   "outputs": [
    {
     "name": "stdout",
     "output_type": "stream",
     "text": [
      "(29.3087017795057, 62.0886463051015, 9210.92769341581, 764.246648695798)\n",
      "(11, 30, 3742, 582.502452842827)\n",
      "(144, 318, 50119, 1103.23590964591)\n"
     ]
    }
   ],
   "source": [
    "print(euclidean_properties(Ap1))\n",
    "print(chebyshev_properties(Ap1))\n",
    "print(taxicab_properties(Ap1))"
   ]
  },
  {
   "cell_type": "code",
   "execution_count": 16,
   "metadata": {
    "scrolled": true
   },
   "outputs": [
    {
     "name": "stdout",
     "output_type": "stream",
     "text": [
      "793.998391866684\n"
     ]
    }
   ],
   "source": [
    "print(end_time - start_time)"
   ]
  },
  {
   "cell_type": "code",
   "execution_count": 17,
   "metadata": {},
   "outputs": [
    {
     "name": "stdout",
     "output_type": "stream",
     "text": [
      "(30.0000000000000, 104.503588455134, 12990.8934862417, 825.343832594793)\n",
      "(15, 30, 5331, 655.349824829410)\n",
      "(30, 495, 55614, 1082.63564079353)\n"
     ]
    }
   ],
   "source": [
    "print(euclidean_properties(matrix(lattice_challenges_01.challenge200())))\n",
    "print(chebyshev_properties(matrix(lattice_challenges_01.challenge200())))\n",
    "print(taxicab_properties(matrix(lattice_challenges_01.challenge200())))"
   ]
  },
  {
   "cell_type": "code",
   "execution_count": null,
   "metadata": {},
   "outputs": [],
   "source": []
  }
 ],
 "metadata": {
  "kernelspec": {
   "display_name": "SageMath 9.1",
   "language": "sage",
   "name": "sagemath"
  },
  "language_info": {
   "codemirror_mode": {
    "name": "ipython",
    "version": 3
   },
   "file_extension": ".py",
   "mimetype": "text/x-python",
   "name": "python",
   "nbconvert_exporter": "python",
   "pygments_lexer": "ipython3",
   "version": "3.7.3"
  }
 },
 "nbformat": 4,
 "nbformat_minor": 2
}
